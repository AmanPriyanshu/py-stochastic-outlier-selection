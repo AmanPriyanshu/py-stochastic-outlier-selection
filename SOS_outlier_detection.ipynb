{
  "nbformat": 4,
  "nbformat_minor": 0,
  "metadata": {
    "colab": {
      "name": "SOS_outlier_detection.ipynb",
      "provenance": [],
      "collapsed_sections": [],
      "authorship_tag": "ABX9TyPeAd5O++/ZDNEspByecGbc",
      "include_colab_link": true
    },
    "kernelspec": {
      "name": "python3",
      "display_name": "Python 3"
    }
  },
  "cells": [
    {
      "cell_type": "markdown",
      "metadata": {
        "id": "view-in-github",
        "colab_type": "text"
      },
      "source": [
        "<a href=\"https://colab.research.google.com/github/AmanPriyanshu/py-stochastic-outlier-selection/blob/master/SOS_outlier_detection.ipynb\" target=\"_parent\"><img src=\"https://colab.research.google.com/assets/colab-badge.svg\" alt=\"Open In Colab\"/></a>"
      ]
    },
    {
      "cell_type": "code",
      "metadata": {
        "id": "y3ES3mKSOwFz",
        "colab_type": "code",
        "colab": {}
      },
      "source": [
        "import numpy as np\n",
        "from random import randint\n",
        "import matplotlib.pyplot as plt\n",
        "from math import exp"
      ],
      "execution_count": 0,
      "outputs": []
    },
    {
      "cell_type": "code",
      "metadata": {
        "id": "IZxi0-P0P04K",
        "colab_type": "code",
        "colab": {}
      },
      "source": [
        "def dissimilarity_matrix(data):\n",
        "\tdissimilarity_matrix = np.empty([data.shape[0], data.shape[0]])\n",
        "\tfor i in range(len(data)):\n",
        "\t\tfor j in range(len(data)):\n",
        "\t\t\td_ij = np.sum(np.square(data[i]-data[j]))\n",
        "\t\t\tdissimilarity_matrix[i][j] = d_ij\n",
        "\n",
        "\treturn dissimilarity_matrix\n"
      ],
      "execution_count": 0,
      "outputs": []
    },
    {
      "cell_type": "code",
      "metadata": {
        "id": "wQ_Q7UKg8lyz",
        "colab_type": "code",
        "colab": {}
      },
      "source": [
        "def get_perplexity(D_row, variance):\n",
        "    A_row = np.exp(-D_row * variance)\n",
        "    sumA = sum(A_row)\n",
        "    perplexity = np.log(sumA) + variance * np.sum(D_row * A_row) / sumA\n",
        "    return perplexity, A_row"
      ],
      "execution_count": 0,
      "outputs": []
    },
    {
      "cell_type": "code",
      "metadata": {
        "id": "G5S_wG4tP1bm",
        "colab_type": "code",
        "colab": {}
      },
      "source": [
        "def affinity_matrix(dMatrix, perplexity, eps=1e-5):\n",
        "  (n, _) = dMatrix.shape\n",
        "  variance_matrix = np.ones(dMatrix.shape[0])\n",
        "  affinity_matrix = np.zeros(dMatrix.shape)\n",
        "  logU = np.log(perplexity)\n",
        "  for i in range(dMatrix.shape[0]):\n",
        "    variance_min = -np.inf\n",
        "    variance_max =  np.inf\n",
        "    d_i = dMatrix[i, np.concatenate((np.r_[0:i], np.r_[i+1:n]))]\n",
        "    (c_perplexity, thisA) = get_perplexity(d_i, variance_matrix[i])\n",
        "    perplexity_diff = c_perplexity - logU\n",
        "    tries = 0\n",
        "    while (np.isnan(perplexity_diff) or np.abs(perplexity_diff) > eps) and tries < 5000:\n",
        "      if np.isnan(perplexity_diff):\n",
        "        variance_matrix[i] = variance_matrix[i] / 10.0\n",
        "      elif perplexity_diff > 0:\n",
        "        variance_min = variance_matrix[i].copy()\n",
        "        if variance_max == np.inf or variance_max == -np.inf:\n",
        "          variance_matrix[i] = variance_matrix[i] * 2.0\n",
        "        else:\n",
        "          variance_matrix[i] = (variance_matrix[i] + variance_max) / 2.0\n",
        "      else:\n",
        "        variance_max = variance_matrix[i].copy()\n",
        "        if variance_min == np.inf or variance_min == -np.inf:\n",
        "          variance_matrix[i] = variance_matrix[i] / 2.0\n",
        "        else:\n",
        "          variance_matrix[i] = (variance_matrix[i] + variance_min) / 2.0\n",
        "      (c_perplexity, thisA) = get_perplexity(d_i, variance_matrix[i])\n",
        "      perplexity_diff = c_perplexity - logU\n",
        "      tries += 1\n",
        "    affinity_matrix[i, np.concatenate((np.r_[0:i], np.r_[i+1:n]))] = thisA\n",
        "  return variance_matrix, affinity_matrix\n",
        "    \n"
      ],
      "execution_count": 0,
      "outputs": []
    },
    {
      "cell_type": "code",
      "metadata": {
        "id": "K4N-Gst0P6n7",
        "colab_type": "code",
        "colab": {}
      },
      "source": [
        "def binding_matrix(aMatrix):\n",
        "\tbinding_matrix = aMatrix / aMatrix.sum(axis=1)[:,np.newaxis]\n",
        "\treturn binding_matrix"
      ],
      "execution_count": 0,
      "outputs": []
    },
    {
      "cell_type": "code",
      "metadata": {
        "id": "oxWsikbeP9pu",
        "colab_type": "code",
        "colab": {}
      },
      "source": [
        "def outlier_probability(bMatrix):\n",
        "\toutlier_matrix = np.prod(1-bMatrix, 0)\n",
        "\treturn outlier_matrix"
      ],
      "execution_count": 0,
      "outputs": []
    },
    {
      "cell_type": "code",
      "metadata": {
        "id": "twQ_X81dQAok",
        "colab_type": "code",
        "colab": {}
      },
      "source": [
        " def sos(cleaned_data): \n",
        "  dMatrix = dissimilarity_matrix(cleaned_data)\n",
        "  variance_matrix, affinity_matrix = affinity_matrix(dMatrix, 50)\n",
        "  binding_matrix = binding_matrix(affinity_matrix)\n",
        "  outlier_matrix = outlier_probability(binding_matrix)"
      ],
      "execution_count": 0,
      "outputs": []
    },
    {
      "cell_type": "code",
      "metadata": {
        "id": "At10y_X5XJNB",
        "colab_type": "code",
        "colab": {}
      },
      "source": [
        "def scatter_plot(X, Y):\n",
        "  plt.scatter(X, Y, label= \"stars\", color= \"green\", marker= \"*\", s=10) \n",
        "  plt.xlabel('x - axis')\n",
        "  plt.ylabel('y - axis')\n",
        "  plt.title('My scatter plot!')\n",
        "  plt.legend()\n",
        "  plt.show() "
      ],
      "execution_count": 0,
      "outputs": []
    },
    {
      "cell_type": "code",
      "metadata": {
        "id": "9ReoWOTBZ-BE",
        "colab_type": "code",
        "colab": {}
      },
      "source": [
        "def data_generation():\n",
        "  data = [[randint(0,100), randint(0,100)] if i%10 != 0 else [randint(500,1000), randint(500,1000)] for i in range(50)]\n",
        "  print(data)\n",
        "  data = np.array(data)\n",
        "  return data\n"
      ],
      "execution_count": 0,
      "outputs": []
    },
    {
      "cell_type": "code",
      "metadata": {
        "id": "QTYqsK6zaLBF",
        "colab_type": "code",
        "colab": {}
      },
      "source": [
        "def feature_normalizer(data):\n",
        "  normalized_data = [(i-min(i))/(max(i)-min(i)) for i in data.T]\n",
        "  normalized_data = np.array(normalized_data)\n",
        "  return normalized_data.T"
      ],
      "execution_count": 0,
      "outputs": []
    },
    {
      "cell_type": "code",
      "metadata": {
        "id": "OAgRv65ZQU_B",
        "colab_type": "code",
        "outputId": "fb7935f9-02f4-4d11-97d8-4bc14537f8c2",
        "colab": {
          "base_uri": "https://localhost:8080/",
          "height": 610
        }
      },
      "source": [
        "data = data_generation()\n",
        "X = data.T[0]\n",
        "Y = data.T[1]\n",
        "scatter_plot(X, Y)\n",
        "n_data = feature_normalizer(data)\n",
        "X = n_data.T[0]\n",
        "Y = n_data.T[1]\n",
        "scatter_plot(X, Y)"
      ],
      "execution_count": 11,
      "outputs": [
        {
          "output_type": "stream",
          "text": [
            "[[800, 643], [3, 84], [80, 30], [12, 16], [42, 96], [19, 22], [42, 69], [64, 35], [89, 26], [64, 79], [797, 654], [88, 41], [5, 24], [33, 52], [40, 55], [60, 57], [62, 18], [74, 26], [70, 91], [66, 74], [782, 753], [63, 88], [26, 65], [78, 5], [9, 58], [17, 18], [21, 13], [58, 21], [31, 14], [58, 51], [794, 917], [89, 70], [71, 35], [52, 96], [85, 2], [55, 7], [37, 18], [95, 73], [97, 26], [15, 37], [562, 925], [98, 41], [17, 88], [79, 99], [98, 82], [92, 69], [67, 91], [94, 18], [64, 68], [49, 18]]\n"
          ],
          "name": "stdout"
        },
        {
          "output_type": "display_data",
          "data": {
            "image/png": "[encoded data removed]",
            "text/plain": [
              "<Figure size 432x288 with 1 Axes>"
            ]
          },
          "metadata": {
            "tags": []
          }
        },
        {
          "output_type": "display_data",
          "data": {
            "image/png": "[encoded data removed]",
            "text/plain": [
              "<Figure size 432x288 with 1 Axes>"
            ]
          },
          "metadata": {
            "tags": []
          }
        }
      ]
    },
    {
      "cell_type": "code",
      "metadata": {
        "id": "h5-t4XNhi6Ko",
        "colab_type": "code",
        "colab": {
          "base_uri": "https://localhost:8080/",
          "height": 70
        },
        "outputId": "edda6b5d-09d7-4aab-984a-8a9394558880"
      },
      "source": [
        "d_matrix = dissimilarity_matrix(n_data)\n",
        "print(d_matrix.tolist()[0])\n",
        "print(d_matrix.tolist()[49])"
      ],
      "execution_count": 12,
      "outputs": [
        {
          "output_type": "stream",
          "text": [
            "[0.0, 1.3667923031144613, 1.2571895274509377, 1.4390002933612682, 1.2557410263244195, 1.4129204563662667, 1.2912686348457867, 1.2866979806582926, 1.2426894400954798, 1.226167114823229, 0.00015619918021931908, 1.223466591455564, 1.44474443987785, 1.3361229388931009, 1.3151436521073685, 1.2651590039146, 1.3159431358586453, 1.2766231532513073, 1.1966000841435789, 1.2281883320933051, 0.014713129862444338, 1.2166646289744032, 1.3352664101899967, 1.2984405711010552, 1.3867062232406353, 1.4236950726227655, 1.4212245772256078, 1.3208716920487067, 1.3953768227569703, 1.2781216506720194, 0.08818138887820498, 1.1812289193243823, 1.2705536879924142, 1.2320322942378148, 1.2871087347464671, 1.3485676616891078, 1.375018180450268, 1.1638288106693402, 1.2248811281855414, 1.4011778645985553, 0.18251960647587973, 1.201206201568141, 1.3267386361122113, 1.1657495588665316, 1.1452355749079381, 1.1758735444109851, 1.203509621004675, 1.243198574619746, 1.2408737394363127, 1.3464165705864277]\n",
            "[1.3464165705864277, 0.00844428920630159, 0.0016819160543331097, 0.0021598913907319777, 0.007218580155394821, 0.0014356374069981305, 0.0031302112889752018, 0.0006934442719130676, 0.002593979629771464, 0.0047219489947244765, 1.355618884200124, 0.0030154312477401316, 0.003090072800824957, 0.0017599375482250895, 0.0017344585084503356, 0.0019758485325019753, 0.00026605416484967937, 0.0010590517556386986, 0.006949475788297133, 0.00413602629327924, 1.4799657576076077, 0.00606021287316363, 0.003425735847481218, 0.0015223470228752436, 0.004396946778442306, 0.001612067839089182, 0.0012635846077380525, 0.00013808134556469607, 0.000528849247510466, 0.0014057926219738803, 1.8224393106175985, 0.00569282941654947, 0.0011011840866826947, 0.0071556087554304, 0.0023407678836257187, 0.00019870487519530426, 0.00022669703987191606, 0.006881952438801011, 0.003702276269145278, 0.002243617691178915, 1.3799339476593808, 0.004400802046957398, 0.007363720852427148, 0.00911820250338527, 0.008587770679319952, 0.005963924287374154, 0.006765284443401202, 0.0031879271231988215, 0.003288730968339647, 0.0]\n"
          ],
          "name": "stdout"
        }
      ]
    },
    {
      "cell_type": "code",
      "metadata": {
        "id": "AS-5WcgIlcjy",
        "colab_type": "code",
        "outputId": "de97e188-099d-41a8-f795-5a50f651e173",
        "colab": {
          "base_uri": "https://localhost:8080/",
          "height": 70
        }
      },
      "source": [
        "variance_matrix, a_matrix = affinity_matrix(d_matrix, 40)\n",
        "print(a_matrix.tolist()[0])\n",
        "print(a_matrix.tolist()[49])"
      ],
      "execution_count": 13,
      "outputs": [
        {
          "output_type": "stream",
          "text": [
            "[0.0, 0.17217344687556163, 0.1982594419115428, 0.1568924589751231, 0.1986294262874936, 0.16224848117986573, 0.18975085212390602, 0.1908704600612591, 0.20199443076476478, 0.206336157335734, 0.999798970013188, 0.20705461972867675, 0.1557367490682804, 0.17910605974996072, 0.18400840205040303, 0.19623612520861547, 0.1838191460706138, 0.19336173140119806, 0.21434000770203893, 0.205800053044114, 0.9812403381644229, 0.20887535764127413, 0.17930362809975472, 0.18800726802235226, 0.16781637568444094, 0.1600138791473183, 0.16052351284589547, 0.18265673587771214, 0.16595391100081094, 0.19298913940997975, 0.8927026043567254, 0.21862291898717987, 0.19487823770487536, 0.20478432745206063, 0.19076957390743518, 0.17625997640050986, 0.17036011598954287, 0.22357452164070063, 0.20667797698667648, 0.1647193889130556, 0.7906275619402511, 0.21307300590926787, 0.18128258437106762, 0.2230224673892763, 0.2289896678823039, 0.2201351181740762, 0.2124422177006163, 0.2018621016525283, 0.20246705608282836, 0.17674867335048655]\n",
            "[1.3386235269469013e-113, 0.19592728159699938, 0.722771350149914, 0.6590693366830938, 0.24822701942816164, 0.7579613506564504, 0.5464958321284784, 0.8747156519725117, 0.6060946418666839, 0.40192743488719407, 2.26572061480258e-114, 0.5587391994747216, 0.5507465181504734, 0.7119675497121115, 0.7154778098459416, 0.6829043234369035, 0.9499397019736526, 0.815111729109372, 0.26146208452134895, 0.4500564203936068, 8.529207723980839e-125, 0.3104257718746978, 0.516193247574416, 0.7453804284215221, 0.42795033372766267, 0.7325823874624713, 0.7835571199165062, 0.9736980684356326, 0.9029533109208094, 0.7623405500471218, 1.6616000944718134e-153, 0.3332394500085326, 0.8085094265444346, 0.25126274297873114, 0.6364551349817774, 0.9623700350661736, 0.9571840244367376, 0.2648923182767599, 0.48936090432313045, 0.648503208640193, 2.074034933458341e-116, 0.42763197699724526, 0.24136903749283406, 0.17202799961093967, 0.19057525768908007, 0.31624951893453257, 0.2709255246353347, 0.5404411343255215, 0.5300267247066985, 0.0]\n"
          ],
          "name": "stdout"
        }
      ]
    },
    {
      "cell_type": "code",
      "metadata": {
        "id": "pQq3VoPRDbUJ",
        "colab_type": "code",
        "colab": {
          "base_uri": "https://localhost:8080/",
          "height": 185
        },
        "outputId": "8c226908-ae3d-4f85-b9b6-b8a9f31fb967"
      },
      "source": [
        "print(variance_matrix)"
      ],
      "execution_count": 14,
      "outputs": [
        {
          "output_type": "stream",
          "text": [
            "[  1.28713989  96.484375   169.0625     102.03125    133.921875\n",
            " 122.65625    237.34375    265.78125    133.265625   179.765625\n",
            "   1.27404785 151.78125     96.25       234.34375    286.65625\n",
            " 312.0625     189.1875     182.75       132.671875   195.6875\n",
            "   1.14654541 150.0625     177.3125     124.46875    118.953125\n",
            " 113.40625    115.4453125  208.8125     139.125      342.4375\n",
            "   0.94155884 133.25       226.15625    135.359375   109.78125\n",
            " 154.796875   165.109375   115.5625     114.3125     128.21875\n",
            "   1.34356689 120.671875   116.21875    106.875      101.671875\n",
            " 126.609375   136.6875     113.234375   231.78125    193.03125   ]\n"
          ],
          "name": "stdout"
        }
      ]
    },
    {
      "cell_type": "code",
      "metadata": {
        "id": "e8Rm71aZr6Xn",
        "colab_type": "code",
        "outputId": "b09f3e57-e473-42a2-efd4-e6ad655751e8",
        "colab": {
          "base_uri": "https://localhost:8080/",
          "height": 70
        }
      },
      "source": [
        "b_matrix = binding_matrix(a_matrix)\n",
        "print(b_matrix.tolist()[0])\n",
        "print(b_matrix.tolist()[49])"
      ],
      "execution_count": 15,
      "outputs": [
        {
          "output_type": "stream",
          "text": [
            "[0.0, 0.014023154414278146, 0.016147802221927864, 0.012778551040068871, 0.016177936648164786, 0.013214787450423673, 0.01545479600868746, 0.015545985650725012, 0.016452008976075003, 0.016805633203469835, 0.08143146108856367, 0.016864150409577523, 0.012684420970793555, 0.014587800720641373, 0.01498708588521403, 0.01598300745787435, 0.014971671395485378, 0.015748894306628725, 0.017457529483832925, 0.016761968669826748, 0.07991990071235149, 0.01701244556983378, 0.014603892234906855, 0.015312784859267653, 0.01366828040080005, 0.013032783953801336, 0.013074292514961946, 0.014876995602419724, 0.013516586685400605, 0.015718547495774934, 0.07270869401813372, 0.01780636333355886, 0.015872410461138096, 0.01667924001986138, 0.015537768691960411, 0.014355993394892118, 0.01387546254029714, 0.01820966064721871, 0.016833473673844256, 0.013416037534654134, 0.06439490285215464, 0.017354334931446242, 0.01476507393786586, 0.01816469702388847, 0.01865071258234541, 0.017929528682733287, 0.017302958597794633, 0.016441231056435992, 0.01649050328478274, 0.014395796703216793]\n",
            "[5.374767543054453e-115, 0.007866764424260816, 0.029020317629524953, 0.026462589429501585, 0.009966674725750222, 0.03043324717061843, 0.021942600005230545, 0.03512110164645313, 0.024335578626457865, 0.016137969251309246, 9.097196767372622e-116, 0.02243418895541408, 0.02211327121193525, 0.028586529377893233, 0.028727471411670414, 0.02741959870518415, 0.03814145631872892, 0.03272791772584636, 0.010498081778301584, 0.018070417799931435, 3.424600563190309e-126, 0.01246404481628339, 0.020725907300723056, 0.029928104902245112, 0.017182826369448692, 0.0294142450023054, 0.031460954416824, 0.03909538917860543, 0.036254884594025455, 0.03060907837540255, 6.671565288914549e-155, 0.013380047070114169, 0.032462825705415595, 0.010088563427695428, 0.025554596443650355, 0.038640552214700634, 0.0384323263689126, 0.010635810636957779, 0.019648549815904054, 0.026038344069118095, 8.32755096493622e-118, 0.017170043885148097, 0.009691316807897681, 0.006907173601783998, 0.007651872904644807, 0.012697876704383774, 0.010878052619590316, 0.021699495109946374, 0.021281341464260865, 0.0]\n"
          ],
          "name": "stdout"
        }
      ]
    },
    {
      "cell_type": "code",
      "metadata": {
        "id": "OB-C8iCDunxh",
        "colab_type": "code",
        "outputId": "00046858-47df-4ef2-d77b-a1a69eb8eddf",
        "colab": {
          "base_uri": "https://localhost:8080/",
          "height": 54
        }
      },
      "source": [
        "out = outlier_probability(b_matrix)\n",
        "print(out.tolist())"
      ],
      "execution_count": 16,
      "outputs": [
        {
          "output_type": "stream",
          "text": [
            "[0.7303678594243006, 0.49516274519275383, 0.2962778493188821, 0.42852066485946505, 0.37146687795068917, 0.3746888408138403, 0.27858791579215836, 0.2555739079477141, 0.3385151016202063, 0.2913121199810301, 0.7286892262323016, 0.3110127745354794, 0.4482223019607382, 0.2820870466139472, 0.264562785033654, 0.24677784235405406, 0.2926336291048324, 0.2884014380875542, 0.34328168228796696, 0.2794504314210021, 0.7204340732384334, 0.32219658371521015, 0.3211967648512339, 0.370451457362615, 0.40061397527835124, 0.3959750781284154, 0.39305335912924466, 0.2820273915077507, 0.3495013190886845, 0.24353932091482894, 0.7309018475466733, 0.3346399101161835, 0.26530948896844025, 0.35714751543006834, 0.40662970144508104, 0.33258595798521584, 0.31783414645340313, 0.3694397798815631, 0.37712044165311387, 0.36699376072327294, 0.7541149818694866, 0.3598117108886214, 0.42867062618913115, 0.3998954665981221, 0.409283840357509, 0.3461752556298926, 0.3387319285475757, 0.38311301015148397, 0.2639380075639561, 0.29538918734578723]\n"
          ],
          "name": "stdout"
        }
      ]
    },
    {
      "cell_type": "code",
      "metadata": {
        "id": "He2K8ku8x9dx",
        "colab_type": "code",
        "outputId": "1bc2de1a-598c-476d-9f49-8096b13a9d23",
        "colab": {
          "base_uri": "https://localhost:8080/",
          "height": 118
        }
      },
      "source": [
        "outliers = []\n",
        "for i in range(len(out.tolist())):\n",
        "  if out[i] >= 0.7:\n",
        "    outliers.append(data[i])\n",
        "    print(i)\n",
        "\n",
        "print(outliers)"
      ],
      "execution_count": 17,
      "outputs": [
        {
          "output_type": "stream",
          "text": [
            "0\n",
            "10\n",
            "20\n",
            "30\n",
            "40\n",
            "[array([800, 643]), array([797, 654]), array([782, 753]), array([794, 917]), array([562, 925])]\n"
          ],
          "name": "stdout"
        }
      ]
    },
    {
      "cell_type": "code",
      "metadata": {
        "id": "sTIw6esQRXAy",
        "colab_type": "code",
        "colab": {}
      },
      "source": [
        ""
      ],
      "execution_count": 0,
      "outputs": []
    }
  ]
}