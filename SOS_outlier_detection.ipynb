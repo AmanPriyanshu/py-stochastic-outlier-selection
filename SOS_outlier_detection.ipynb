{
  "nbformat": 4,
  "nbformat_minor": 0,
  "metadata": {
    "colab": {
      "name": "SOS_outlier_detection.ipynb",
      "provenance": [],
      "collapsed_sections": [],
      "authorship_tag": "ABX9TyPz9pfyf5rU5+9wOQAuCuuR",
      "include_colab_link": true
    },
    "kernelspec": {
      "name": "python3",
      "display_name": "Python 3"
    }
  },
  "cells": [
    {
      "cell_type": "markdown",
      "metadata": {
        "id": "view-in-github",
        "colab_type": "text"
      },
      "source": [
        "<a href=\"https://colab.research.google.com/github/AmanPriyanshu/py-stochastic-outlier-selection/blob/master/SOS_outlier_detection.ipynb\" target=\"_parent\"><img src=\"https://colab.research.google.com/assets/colab-badge.svg\" alt=\"Open In Colab\"/></a>"
      ]
    },
    {
      "cell_type": "code",
      "metadata": {
        "id": "y3ES3mKSOwFz",
        "colab_type": "code",
        "colab": {}
      },
      "source": [
        "import numpy as np\n",
        "from random import randint\n",
        "import matplotlib.pyplot as plt\n",
        "from math import exp"
      ],
      "execution_count": 0,
      "outputs": []
    },
    {
      "cell_type": "code",
      "metadata": {
        "id": "IZxi0-P0P04K",
        "colab_type": "code",
        "colab": {}
      },
      "source": [
        "def dissimilarity_matrix(data):\n",
        "\tdissimilarity_matrix = np.empty([data.shape[0], data.shape[0]])\n",
        "\tfor i in range(len(data)):\n",
        "\t\tfor j in range(len(data)):\n",
        "\t\t\td_ij = np.sum(np.square(data[i]-data[j]))\n",
        "\t\t\tdissimilarity_matrix[i][j] = d_ij\n",
        "\n",
        "\treturn dissimilarity_matrix\n"
      ],
      "execution_count": 0,
      "outputs": []
    },
    {
      "cell_type": "code",
      "metadata": {
        "id": "G5S_wG4tP1bm",
        "colab_type": "code",
        "colab": {}
      },
      "source": [
        "def affinity_matrix(dMatrix, perplexity):\n",
        "  variance_matrix = np.empty(dMatrix.shape[0])\n",
        "  affinity_matrix = np.empty(dMatrix.shape)\n",
        "  for i in range(dMatrix.shape[0]):\n",
        "    variance = 0.0001\n",
        "    tempPerplexity = 0\n",
        "    while tempPerplexity <= perplexity:\n",
        "      a_i = [0 if i==j else exp(-(dMatrix[i][j]/(2*variance))**2) for j in range(dMatrix.shape[1])]\n",
        "      tempPerplexity = sum(a_i)\n",
        "      variance += 0.001\n",
        "    variance_matrix[i] = variance\n",
        "  for i,variance in zip(range(dMatrix.shape[0]), variance_matrix):\n",
        "    for j in range(dMatrix.shape[1]):\n",
        "      if i != j:\n",
        "        affinity_matrix[i][j] = exp(-(dMatrix[i][j]/(2*variance))**2)\n",
        "      else: \n",
        "        affinity_matrix[i][j] = 0\n",
        "  return variance_matrix, affinity_matrix"
      ],
      "execution_count": 0,
      "outputs": []
    },
    {
      "cell_type": "code",
      "metadata": {
        "id": "K4N-Gst0P6n7",
        "colab_type": "code",
        "colab": {}
      },
      "source": [
        "def binding_matrix(aMatrix):\n",
        "\tbinding_matrix = np.empty(aMatrix.shape)\n",
        "\tfor i in range(aMatrix.shape[0]):\n",
        "\t\tfor j in range(aMatrix.shape[1]):\n",
        "\t\t\tbinding_matrix[i][j] = aMatrix[i][j]/np.sum(aMatrix[i])\n",
        "\n",
        "\treturn binding_matrix"
      ],
      "execution_count": 0,
      "outputs": []
    },
    {
      "cell_type": "code",
      "metadata": {
        "id": "oxWsikbeP9pu",
        "colab_type": "code",
        "colab": {}
      },
      "source": [
        "def outlier_probability(bMatrix):\n",
        "\toutlier_matrix = np.empty(bMatrix.shape[0])\n",
        "\tfor i in range(bMatrix.shape[0]):\n",
        "\t\tcondition = [(1-bMatrix[j][i]) for j in range(bMatrix.shape[0])]\n",
        "\t\toutlier_matrix[i] = np.prod(condition)\n",
        "\treturn outlier_matrix"
      ],
      "execution_count": 0,
      "outputs": []
    },
    {
      "cell_type": "code",
      "metadata": {
        "id": "twQ_X81dQAok",
        "colab_type": "code",
        "colab": {}
      },
      "source": [
        " def sos(cleaned_data): \n",
        "  dMatrix = dissimilarity_matrix(cleaned_data)\n",
        "  variance_matrix, affinity_matrix = affinity_matrix(dMatrix, 50)\n",
        "  binding_matrix = binding_matrix(affinity_matrix)\n",
        "  outlier_matrix = outlier_probability(binding_matrix)"
      ],
      "execution_count": 0,
      "outputs": []
    },
    {
      "cell_type": "code",
      "metadata": {
        "id": "At10y_X5XJNB",
        "colab_type": "code",
        "colab": {}
      },
      "source": [
        "def scatter_plot(X, Y):\n",
        "  plt.scatter(X, Y, label= \"stars\", color= \"green\", marker= \"*\", s=10) \n",
        "  plt.xlabel('x - axis')\n",
        "  plt.ylabel('y - axis')\n",
        "  plt.title('My scatter plot!')\n",
        "  plt.legend()\n",
        "  plt.show() "
      ],
      "execution_count": 0,
      "outputs": []
    },
    {
      "cell_type": "code",
      "metadata": {
        "id": "9ReoWOTBZ-BE",
        "colab_type": "code",
        "colab": {}
      },
      "source": [
        "def data_generation():\n",
        "  data = [[randint(0,100), randint(0,100)] if i%10 != 0 else [randint(500,1000), randint(500,1000)] for i in range(50)]\n",
        "  print(data)\n",
        "  data = np.array(data)\n",
        "  return data\n"
      ],
      "execution_count": 0,
      "outputs": []
    },
    {
      "cell_type": "code",
      "metadata": {
        "id": "QTYqsK6zaLBF",
        "colab_type": "code",
        "colab": {}
      },
      "source": [
        "def feature_normalizer(data):\n",
        "  normalized_data = [(i-min(i))/(max(i)-min(i)) for i in data.T]\n",
        "  normalized_data = np.array(normalized_data)\n",
        "  return normalized_data.T"
      ],
      "execution_count": 0,
      "outputs": []
    },
    {
      "cell_type": "code",
      "metadata": {
        "id": "OAgRv65ZQU_B",
        "colab_type": "code",
        "colab": {
          "base_uri": "https://localhost:8080/",
          "height": 610
        },
        "outputId": "7161ba31-a32d-4278-ce4d-350e5ee5373f"
      },
      "source": [
        "#data = data_generation()\n",
        "X = data.T[0]\n",
        "Y = data.T[1]\n",
        "scatter_plot(X, Y)\n",
        "n_data = feature_normalizer(data)\n",
        "X = n_data.T[0]\n",
        "Y = n_data.T[1]\n",
        "scatter_plot(X, Y)"
      ],
      "execution_count": 54,
      "outputs": [
        {
          "output_type": "stream",
          "text": [
            "[[622, 807], [21, 3], [58, 25], [71, 58], [25, 41], [96, 92], [94, 15], [70, 71], [49, 16], [60, 83], [961, 842], [44, 60], [99, 34], [32, 20], [70, 43], [57, 86], [64, 15], [85, 96], [68, 48], [71, 43], [877, 645], [64, 7], [3, 47], [6, 14], [56, 94], [56, 54], [40, 23], [72, 2], [100, 6], [43, 51], [778, 916], [36, 85], [19, 68], [26, 81], [14, 84], [32, 26], [14, 88], [29, 54], [36, 67], [28, 96], [519, 575], [51, 67], [24, 1], [73, 82], [27, 89], [12, 96], [68, 56], [64, 36], [69, 97], [41, 35]]\n"
          ],
          "name": "stdout"
        },
        {
          "output_type": "display_data",
          "data": {
            "image/png": "[encoded data removed]",
            "text/plain": [
              "<Figure size 432x288 with 1 Axes>"
            ]
          },
          "metadata": {
            "tags": []
          }
        },
        {
          "output_type": "display_data",
          "data": {
            "image/png": "[encoded data removed]",
            "text/plain": [
              "<Figure size 432x288 with 1 Axes>"
            ]
          },
          "metadata": {
            "tags": []
          }
        }
      ]
    },
    {
      "cell_type": "code",
      "metadata": {
        "id": "h5-t4XNhi6Ko",
        "colab_type": "code",
        "colab": {}
      },
      "source": [
        "d_matrix = dissimilarity_matrix(n_data)"
      ],
      "execution_count": 0,
      "outputs": []
    },
    {
      "cell_type": "code",
      "metadata": {
        "id": "AS-5WcgIlcjy",
        "colab_type": "code",
        "colab": {
          "base_uri": "https://localhost:8080/",
          "height": 70
        },
        "outputId": "b6035396-af9f-4087-95ef-fed87fbf6034"
      },
      "source": [
        "variance_matrix, a_matrix = affinity_matrix(d_matrix, 25)\n",
        "print(a_matrix.tolist()[0])\n",
        "print(a_matrix.tolist()[49])"
      ],
      "execution_count": 89,
      "outputs": [
        {
          "output_type": "stream",
          "text": [
            "[0.0, 0.3844380658955751, 0.44215001038016866, 0.49420954517064286, 0.43402963761449065, 0.5569427205061638, 0.45836540565561756, 0.5094874526141657, 0.4235076156103111, 0.5156650141236157, 0.9887725899144846, 0.4737107021984532, 0.48666560687449684, 0.4143282755846238, 0.47462559359815537, 0.5167169639058287, 0.4344937766183853, 0.5527080302507346, 0.47922798299129893, 0.4754519083944253, 0.9926786438063397, 0.4244182741432511, 0.42198344538290605, 0.3851267335797811, 0.5255178858824356, 0.47660432588191765, 0.4247214204188721, 0.42446640494760857, 0.4514166605502623, 0.461797596928809, 0.9988348052047265, 0.49705030588550475, 0.4614206268295525, 0.48330482331966146, 0.4760281923477615, 0.4216875519706659, 0.48077583255209144, 0.4533333577062687, 0.4752820723437162, 0.5030154051185276, 0.9959606305299136, 0.4883424422077754, 0.38448426824672205, 0.5255479467794557, 0.49377563187493906, 0.48839375341884794, 0.48920891609511474, 0.46088424961541347, 0.5403757704402486, 0.4403771418277514]\n",
            "[0.0, 0.9309093583651106, 0.9951043881359793, 0.9345955605899836, 0.9973073756590466, 0.2618737626847727, 0.7220057684473848, 0.8538632153227853, 0.9934936335051763, 0.7730905209283595, 0.0, 0.9852293122748729, 0.704868921850998, 0.9966899050925453, 0.9746846096303576, 0.7421589508843563, 0.9715045679523013, 0.3271207070973339, 0.974514233808746, 0.9713489048022496, 0.0, 0.9421995526962446, 0.9238088872888994, 0.9137979496892683, 0.6039183456030967, 0.9881702720339509, 0.9992209359155741, 0.866406607967795, 0.5495078332868278, 0.9975010229621735, 0.0, 0.7896141018318998, 0.9167331667674479, 0.8187503795290273, 0.7054733225491879, 0.9991099883154547, 0.6389571512418806, 0.9910432355914344, 0.960146773844303, 0.5727353600137552, 0.0, 0.9548900815898163, 0.9279312508500883, 0.693047779169249, 0.7008471612175478, 0.4734959971271204, 0.9556144447636434, 0.9913586672323609, 0.4623408195995135, 0.0]\n"
          ],
          "name": "stdout"
        }
      ]
    },
    {
      "cell_type": "code",
      "metadata": {
        "id": "e8Rm71aZr6Xn",
        "colab_type": "code",
        "colab": {
          "base_uri": "https://localhost:8080/",
          "height": 70
        },
        "outputId": "24ea194d-3541-472c-9514-4884ef47010a"
      },
      "source": [
        "b_matrix = binding_matrix(a_matrix)\n",
        "print(b_matrix.tolist()[0])\n",
        "print(b_matrix.tolist()[49])"
      ],
      "execution_count": 90,
      "outputs": [
        {
          "output_type": "stream",
          "text": [
            "[0.0, 0.015339289754466249, 0.01764202800355346, 0.019719232004602388, 0.017318020674890938, 0.022222320119582854, 0.018289031171759174, 0.020328828893953536, 0.01689818622392681, 0.020575316987552543, 0.039452568836125974, 0.018901316923146505, 0.019418224727539894, 0.016531925520578476, 0.018937821591957612, 0.02061729036102409, 0.01733654007580017, 0.0220533536549922, 0.019121459453884344, 0.018970792005693463, 0.03960842252950087, 0.016934521999031713, 0.01683737099560432, 0.015366767972909482, 0.02096845197659182, 0.01901677409572812, 0.016946617701752785, 0.01693644244453295, 0.018011772429567068, 0.018425977486660607, 0.0398540567469271, 0.01983257991573304, 0.018410936172872403, 0.019284127619779323, 0.018993786051614697, 0.016825564686111485, 0.019183219500600864, 0.01808824969770401, 0.01896401545408817, 0.020070590647933362, 0.039739375600461556, 0.019485131377347756, 0.015341133253626326, 0.02096965142287609, 0.019701918626033568, 0.019487178722821887, 0.019519704160850904, 0.01838953442774031, 0.021561289722353997, 0.017571289575612516]\n",
            "[0.0, 0.025541464234651864, 0.02730279044992875, 0.02564260297758344, 0.02736323406511447, 0.007185059730577432, 0.01980975306167076, 0.023427540586500498, 0.027258595994879217, 0.021211371131898724, 0.0, 0.02703184688850201, 0.01933956748398463, 0.027346292456086132, 0.026742530702087337, 0.020362698183344397, 0.026655279542718367, 0.00897524744558817, 0.026737856081604644, 0.02665100859545162, 0.0, 0.02585123455989316, 0.025346647815187855, 0.025071976600038223, 0.016569775227054724, 0.027112538330506593, 0.027415736632001097, 0.023771695054113074, 0.015076907912071728, 0.027368547187839584, 0.0, 0.021664730470145516, 0.025152510479464388, 0.022464145781684573, 0.01935615049357358, 0.02741269255028153, 0.017531138858224615, 0.02719136415311922, 0.026343654474834798, 0.015714204162049432, 0.0, 0.026199426021222147, 0.025459753565510588, 0.01901522946943414, 0.019229221987447774, 0.012991362657598168, 0.026219300454679018, 0.027200018686348266, 0.012685296803503684, 0.0]\n"
          ],
          "name": "stdout"
        }
      ]
    },
    {
      "cell_type": "code",
      "metadata": {
        "id": "OB-C8iCDunxh",
        "colab_type": "code",
        "colab": {
          "base_uri": "https://localhost:8080/",
          "height": 54
        },
        "outputId": "f73b1ede-5838-45db-d2f4-3f07cd58ab90"
      },
      "source": [
        "out = outlier_probability(b_matrix)\n",
        "print(out.tolist())"
      ],
      "execution_count": 92,
      "outputs": [
        {
          "output_type": "stream",
          "text": [
            "[0.8507120248410921, 0.4369334180665258, 0.30205719685134735, 0.27497502196711276, 0.28671997605298066, 0.43834091119697904, 0.43091953328907634, 0.2871996848711398, 0.3314955141068642, 0.30339443639681535, 0.8568333031889035, 0.260124012750042, 0.3902176156526704, 0.32716206350627597, 0.2788515827311762, 0.3109007050869627, 0.3445747514649455, 0.4077376087804317, 0.2714049454140168, 0.280555094891974, 0.8519230861532169, 0.3828772088371563, 0.35466754018618124, 0.4366029476774262, 0.33988329974633597, 0.25865424961477357, 0.30816597793762796, 0.42264422517810685, 0.5021845892539978, 0.25877061836594883, 0.8535567501759059, 0.3144319446591278, 0.30529745493780747, 0.31874624858989, 0.36248505565540046, 0.30738552871047464, 0.37778126038288423, 0.27196326623784006, 0.2724630676020663, 0.37123066566374613, 0.8516960448494598, 0.2655836540979014, 0.44014368894577494, 0.31827433167819486, 0.3432664948274266, 0.41954602286135534, 0.26974744764598757, 0.28082830816074794, 0.36881577363715934, 0.2760818339935906]\n"
          ],
          "name": "stdout"
        }
      ]
    },
    {
      "cell_type": "code",
      "metadata": {
        "id": "He2K8ku8x9dx",
        "colab_type": "code",
        "colab": {
          "base_uri": "https://localhost:8080/",
          "height": 118
        },
        "outputId": "17cd4618-4f02-4a1d-f013-026cc13f6020"
      },
      "source": [
        "outliers = []\n",
        "for i in range(len(out.tolist())):\n",
        "  if out[i] >= 0.8:\n",
        "    outliers.append(data[i])\n",
        "    print(i)\n",
        "\n",
        "print(outliers)"
      ],
      "execution_count": 95,
      "outputs": [
        {
          "output_type": "stream",
          "text": [
            "0\n",
            "10\n",
            "20\n",
            "30\n",
            "40\n",
            "[array([622, 807]), array([961, 842]), array([877, 645]), array([778, 916]), array([519, 575])]\n"
          ],
          "name": "stdout"
        }
      ]
    },
    {
      "cell_type": "code",
      "metadata": {
        "id": "sTIw6esQRXAy",
        "colab_type": "code",
        "colab": {}
      },
      "source": [
        "<code>\n",
        "dissimilarity_matrix = np.empty([data.shape[0], data.shape[0]])<br>\n",
        "for i in range(len(data)):\n",
        "<pre class=\"tab\">    for j in range(len(data)):</pre>\n",
        "<pre class=\"tab\"><pre class=\"tab\">        d_ij = np.sum(np.square(data[i]-data[j]))</pre></pre>\n",
        "<pre class=\"tab\"><pre class=\"tab\"> \n",
        "       dissimilarity_matrix[i][j] = d_ij</pre></pre>\n",
        "<pre class=\"tab\">return dissimilarity_matrix</pre></code>\n"
      ],
      "execution_count": 0,
      "outputs": []
    }
  ]
}